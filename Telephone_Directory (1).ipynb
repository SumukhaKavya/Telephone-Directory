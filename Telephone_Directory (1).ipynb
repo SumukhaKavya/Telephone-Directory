{
  "nbformat": 4,
  "nbformat_minor": 0,
  "metadata": {
    "colab": {
      "provenance": []
    },
    "kernelspec": {
      "name": "python3",
      "display_name": "Python 3"
    },
    "language_info": {
      "name": "python"
    }
  },
  "cells": [
    {
      "cell_type": "code",
      "execution_count": null,
      "metadata": {
        "id": "Eo2C4S4Z5dgT"
      },
      "outputs": [],
      "source": [
        "def telephone():\n",
        "  print('choose among the given options:')\n",
        "  print('\\n1.Display Phone Numbers \\n2.Add a Phone Number \\n3.Search contact \\n4. Quit')\n",
        "  d={}\n",
        "  while True:\n",
        "    op=int(input('Type in a number (1-4): '))\n",
        "    print('******** Telephone Numbers: **********')\n",
        "    if op==1:\n",
        "      if len(d)!=0:\n",
        "        for i in d:\n",
        "            print(f'Name: {i} Phone Number: {d[i]}')\n",
        "      else:\n",
        "        print('No Record found')\n",
        "    elif op==2:\n",
        "      print('Add Name and Number')\n",
        "      Name=input('Enter Name: ')\n",
        "      Phno=int(input('Enter Phone Number: '))\n",
        "      d[Name]=Phno\n",
        "    elif op==3:\n",
        "      Search_name=input('Enter Name you want to search for? ')\n",
        "      print(d[Search_name])\n",
        "    elif op==4:\n",
        "      print('Quit')\n",
        "      break\n",
        "    else:\n",
        "      print('\\n1.Display Phone Numbers \\n2.Add a Phone Number \\n3.Search contact \\n4. Quit')"
      ]
    },
    {
      "cell_type": "code",
      "source": [
        "telephone()"
      ],
      "metadata": {
        "colab": {
          "base_uri": "https://localhost:8080/"
        },
        "id": "XVxf-eFOmrjk",
        "outputId": "e60afad4-2401-43c3-8a14-2f335571561c"
      },
      "execution_count": null,
      "outputs": [
        {
          "output_type": "stream",
          "name": "stdout",
          "text": [
            "choose among the given options:\n",
            "\n",
            "1.Display Phone Numbers \n",
            "2.Add a Phone Number \n",
            "3.Search contact \n",
            "4. Quit\n",
            "Type in a number (1-4): 1\n",
            "******** Telephone Numbers: **********\n",
            "No Record found\n",
            "Type in a number (1-4): 2\n",
            "******** Telephone Numbers: **********\n",
            "Add Name and Number\n",
            "Enter Name: Kavya\n",
            "Enter Phone Number: 8096320589\n",
            "Type in a number (1-4): 2\n",
            "******** Telephone Numbers: **********\n",
            "Add Name and Number\n",
            "Enter Name: Ravi\n",
            "Enter Phone Number: 9182021304\n",
            "Type in a number (1-4): 1\n",
            "******** Telephone Numbers: **********\n",
            "Name: Kavya Phone Number: 8096320589\n",
            "Name: Ravi Phone Number: 9182021304\n",
            "Type in a number (1-4): 3\n",
            "******** Telephone Numbers: **********\n",
            "Enter Name you want to search for? Ravi\n",
            "9182021304\n",
            "Type in a number (1-4): 234\n",
            "******** Telephone Numbers: **********\n",
            "\n",
            "1.Display Phone Numbers \n",
            "2.Add a Phone Number \n",
            "3.Search contact \n",
            "4. Quit\n",
            "Type in a number (1-4): 4\n",
            "******** Telephone Numbers: **********\n",
            "Quit\n"
          ]
        }
      ]
    }
  ]
}